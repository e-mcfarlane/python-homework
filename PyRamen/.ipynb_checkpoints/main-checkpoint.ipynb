{
 "cells": [
  {
   "cell_type": "code",
   "execution_count": 1,
   "id": "815c4294-1061-43f3-9a71-aa10a54d2ad8",
   "metadata": {},
   "outputs": [],
   "source": [
    "# Import libraries\n",
    "import csv\n",
    "from pathlib import Path\n",
    "\n",
    "# Set file paths for menu_data.csv and sales_data.csv\n",
    "menu_filepath = Path(\"Resources/menu_data.csv\")\n",
    "sales_filepath = Path(\"Resources/sales_data.csv\")"
   ]
  },
  {
   "cell_type": "code",
   "execution_count": 2,
   "id": "5ec2795f-fb9d-415c-b6bf-e8fb093f13ed",
   "metadata": {},
   "outputs": [],
   "source": [
    "# Initialize list objects to hold our menu and sales data\n",
    "menu = []\n",
    "sales = []"
   ]
  },
  {
   "cell_type": "code",
   "execution_count": 3,
   "id": "12f02ffe-8bbe-42d1-bad2-921e47afacac",
   "metadata": {},
   "outputs": [],
   "source": [
    "# Read in the menu data into the menu list\n",
    "\n",
    "with open(menu_filepath,\"r\") as menuFile:\n",
    "    csvreader = csv.reader(menuFile,delimiter=\",\")\n",
    "    header = next(csvreader)\n",
    "    \n",
    "    for row in csvreader:\n",
    "        menu.append(row)"
   ]
  },
  {
   "cell_type": "code",
   "execution_count": 4,
   "id": "4c9fe3ee-197f-4562-9db5-9ad1bd99030b",
   "metadata": {},
   "outputs": [],
   "source": [
    "# Read in the sales data into the sales list\n",
    "\n",
    "with open(sales_filepath,\"r\") as salesFile:\n",
    "    csvreader = csv.reader(salesFile,delimiter=\",\")\n",
    "    header = next(csvreader)\n",
    "    \n",
    "    for row in csvreader:\n",
    "        sales.append(row)"
   ]
  },
  {
   "cell_type": "code",
   "execution_count": 5,
   "id": "4dc486e1-aa09-4769-a962-f34a67b43773",
   "metadata": {},
   "outputs": [],
   "source": [
    "# Initialize dict object to hold our key-value pairs of items and metrics\n",
    "report = {}\n",
    "\n",
    "# Initialize a row counter variable\n",
    "row_count = 0"
   ]
  },
  {
   "cell_type": "code",
   "execution_count": 6,
   "id": "a43ced81-b2be-43e1-9ed4-c92f6fade51d",
   "metadata": {},
   "outputs": [
    {
     "name": "stdout",
     "output_type": "stream",
     "text": [
      "There were a total of 74124 sales records\n"
     ]
    }
   ],
   "source": [
    "# Initialize sales and menu data variables\n",
    "quantity = 0\n",
    "sales_item = '' \n",
    "menu_item = ''\n",
    "menu_price = 0.0\n",
    "menu_cost = 0.0\n",
    "\n",
    "\n",
    "# Loop over every row in the sales list object\n",
    "for sub_sales in sales:\n",
    "\n",
    "    # Assign current values to sales data variables\n",
    "    quantity = int(sub_sales[3])\n",
    "    sales_item = sub_sales[4]\n",
    "      \n",
    "    # If the item value not in the report, add it as a new entry with initialized metrics\n",
    "    if sales_item not in report:\n",
    "        report[sales_item] = {\"01-count\": 0, \"02-revenue\": 0, \"03-cogs\": 0, \"04-profit\": 0}\n",
    "    else:\n",
    "        exit()\n",
    "   \n",
    "    # For every row in our sales data, loop over the menu records to determine a match\n",
    "    for sub_menu in menu:\n",
    "        # Initialize menu data variables\n",
    "        menu_item = sub_menu[0]\n",
    "        menu_price = float(sub_menu[3])\n",
    "        menu_cost = float(sub_menu[4])\n",
    "        \n",
    "        \n",
    "         # Check if sales_item matches menu_item & Cumulatively add up the metrics for each item key\n",
    "        if sales_item == menu_item:\n",
    "            # print(f\"{sales_item} found on the menu\")\n",
    "            report[sales_item][\"01-count\"] += quantity\n",
    "            report[sales_item][\"02-revenue\"] += (menu_price * quantity)\n",
    "            report[sales_item][\"03-cogs\"] += (menu_cost * quantity)\n",
    "            report[sales_item][\"04-profit\"] += ((menu_price - menu_cost) * quantity)\n",
    "\n",
    "        # Else, the sales item does not equal any fo the item in the menu data, therefore no match        \n",
    "        else:\n",
    "            exit()\n",
    "    \n",
    "    #Increment the row counter by 1\n",
    "    \n",
    "    row_count += 1\n",
    "\n",
    "# Print total number of records in sales data\n",
    "print(f\"There were a total of {row_count} sales records\")\n",
    "\n",
    "# Write out report to a text file (won't appear on the command line output)\n",
    "output_path = Path(\"results.txt\")\n",
    "with open(output_path,\"w\") as f:\n",
    "    for k,v in report.items():\n",
    "        f.write(f\"{k} : {v} \\n\")"
   ]
  },
  {
   "cell_type": "code",
   "execution_count": null,
   "id": "098b3696-7321-4388-912f-0a56eb54084b",
   "metadata": {},
   "outputs": [],
   "source": []
  }
 ],
 "metadata": {
  "kernelspec": {
   "display_name": "Python 3 (ipykernel)",
   "language": "python",
   "name": "python3"
  },
  "language_info": {
   "codemirror_mode": {
    "name": "ipython",
    "version": 3
   },
   "file_extension": ".py",
   "mimetype": "text/x-python",
   "name": "python",
   "nbconvert_exporter": "python",
   "pygments_lexer": "ipython3",
   "version": "3.7.11"
  }
 },
 "nbformat": 4,
 "nbformat_minor": 5
}
